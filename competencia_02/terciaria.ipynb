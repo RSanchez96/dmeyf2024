{
 "cells": [
  {
   "cell_type": "code",
   "execution_count": 3,
   "metadata": {},
   "outputs": [],
   "source": [
    "import numpy as np\n",
    "import pandas as pd\n",
    "import time\n",
    "import gzip\n",
    "import csv\n",
    "import json\n",
    "import pandas as pd"
   ]
  },
  {
   "cell_type": "code",
   "execution_count": 9,
   "metadata": {},
   "outputs": [],
   "source": [
    "DIR = 'C:/Users/vicsa/OneDrive/Documents/Personal/Master_DataScience_UBA/2do Cuatrimestre/DMEyF/data/datasets'"
   ]
  },
  {
   "cell_type": "code",
   "execution_count": 14,
   "metadata": {},
   "outputs": [],
   "source": [
    "with gzip.open(f'{DIR}/competencia_02_crudo.csv.gz', 'rt') as f:\n",
    "    data = pd.read_csv(f, sep=',', quotechar='\"')"
   ]
  },
  {
   "cell_type": "code",
   "execution_count": 15,
   "metadata": {},
   "outputs": [
    {
     "name": "stdout",
     "output_type": "stream",
     "text": [
      "Index(['numero_de_cliente', 'foto_mes', 'active_quarter', 'cliente_vip',\n",
      "       'internet', 'cliente_edad', 'cliente_antiguedad', 'mrentabilidad',\n",
      "       'mrentabilidad_annual', 'mcomisiones',\n",
      "       ...\n",
      "       'Visa_madelantodolares', 'Visa_fultimo_cierre', 'Visa_mpagado',\n",
      "       'Visa_mpagospesos', 'Visa_mpagosdolares', 'Visa_fechaalta',\n",
      "       'Visa_mconsumototal', 'Visa_cconsumos', 'Visa_cadelantosefectivo',\n",
      "       'Visa_mpagominimo'],\n",
      "      dtype='object', length=154)\n"
     ]
    }
   ],
   "source": [
    "print(data.columns)"
   ]
  },
  {
   "cell_type": "code",
   "execution_count": 16,
   "metadata": {},
   "outputs": [
    {
     "name": "stdout",
     "output_type": "stream",
     "text": [
      "   numero_de_cliente  foto_mes  active_quarter  cliente_vip  internet  \\\n",
      "0          249221109    201901               1            0         1   \n",
      "1          249221468    201901               1            0         1   \n",
      "2          249223005    201901               1            0         1   \n",
      "3          249228180    201901               1            0         1   \n",
      "4          249232117    201901               1            0         1   \n",
      "\n",
      "   cliente_edad  cliente_antiguedad  mrentabilidad  mrentabilidad_annual  \\\n",
      "0            59                 276        7597.55              47433.58   \n",
      "1            51                  13         738.16               -325.09   \n",
      "2            46                 178        1014.31               9434.15   \n",
      "3            64                 296        1028.33               6873.80   \n",
      "4            77                 349       11617.61              43291.55   \n",
      "\n",
      "   mcomisiones  ...  Visa_madelantodolares  Visa_fultimo_cierre  Visa_mpagado  \\\n",
      "0      5654.59  ...                    0.0                  1.0           0.0   \n",
      "1       491.31  ...                    0.0                  1.0           0.0   \n",
      "2       417.36  ...                    0.0                  1.0           0.0   \n",
      "3      1129.43  ...                    0.0                  1.0           0.0   \n",
      "4     10726.08  ...                    0.0                  1.0           0.0   \n",
      "\n",
      "   Visa_mpagospesos  Visa_mpagosdolares  Visa_fechaalta  Visa_mconsumototal  \\\n",
      "0         -44919.57                3.23          7136.0            24336.99   \n",
      "1         -30184.75               15.24           393.0            16345.79   \n",
      "2          -3730.14                0.00          2755.0             1181.65   \n",
      "3         -13196.25                0.00          8194.0             1892.04   \n",
      "4         -22073.65                0.00          7876.0            21902.85   \n",
      "\n",
      "   Visa_cconsumos  Visa_cadelantosefectivo  Visa_mpagominimo  \n",
      "0            13.0                      0.0           1466.25  \n",
      "1             8.0                      0.0           1548.36  \n",
      "2             3.0                      0.0           3917.82  \n",
      "3             1.0                      0.0           2017.56  \n",
      "4             6.0                      0.0            891.48  \n",
      "\n",
      "[5 rows x 154 columns]\n"
     ]
    }
   ],
   "source": [
    "print(data.head())"
   ]
  },
  {
   "cell_type": "code",
   "execution_count": 18,
   "metadata": {},
   "outputs": [
    {
     "name": "stdout",
     "output_type": "stream",
     "text": [
      "Procesando...\n",
      "Tiempo de procesamiento: 1.49 segundos.\n",
      "Guardando datos...\n",
      "Distribución de clases:\n",
      "clase_ternaria\n",
      "CONTINUA    99.09\n",
      "BAJA+1       0.46\n",
      "BAJA+2       0.45\n",
      "Name: proportion, dtype: float64\n"
     ]
    }
   ],
   "source": [
    "# Cargamos los datos\n",
    "#print('Cargando datos...')\n",
    "#data = pd.read_csv(f'{DIR}/competencia_02_crudo.csv', header=0, sep=' ', quotechar='\"')\n",
    "\n",
    "# Inicio del proceso\n",
    "print('Procesando...')\n",
    "start_time = time.time()\n",
    "\n",
    "# Trabajamos solamente con las columnas necesarias\n",
    "clientes = data[['numero_de_cliente', 'foto_mes']].copy(\n",
    ").sort_values(['numero_de_cliente', 'foto_mes'])\n",
    "\n",
    "# Convertimos foto mes a un periodo numérico secuencial\n",
    "clientes['periodo0'] = clientes['foto_mes'].floordiv(\n",
    "    100).mul(12) + clientes['foto_mes'].mod(100)\n",
    "\n",
    "# Calculamos el último y anteúltimo periodo\n",
    "ultimo = clientes['periodo0'].max()\n",
    "anteultimo = ultimo - 1\n",
    "\n",
    "# Creamos los leads de período según cliente\n",
    "groupper = clientes.groupby('numero_de_cliente')['periodo0']\n",
    "clientes['periodo1'] = groupper.shift(-1)\n",
    "clientes['periodo2'] = groupper.shift(-2)\n",
    "\n",
    "# Si el cliente tiene vacío periodo 1, es BAJA+1, si tiene vacío periodo 2, es BAJA+2\n",
    "clientes['clase_ternaria'] = np.where(clientes['periodo0'] == ultimo, pd.NA,\n",
    "                                      np.where(clientes['periodo1'].isna(), 'BAJA+1',\n",
    "                                               np.where(clientes['periodo0'] == anteultimo, pd.NA,\n",
    "                                                        np.where(clientes['periodo2'].isna(), 'BAJA+2', 'CONTINUA'))))\n",
    "\n",
    "# Fin del proceso\n",
    "print('Tiempo de procesamiento:', round(\n",
    "    time.time() - start_time, 4), 'segundos.')\n",
    "\n",
    "# Guardamos el dataset\n",
    "print('Guardando datos...')\n",
    "data.join(clientes['clase_ternaria']).to_csv(\n",
    "    f'{DIR}/competencia_02.csv', index=False)\n",
    "\n",
    "# Mostramos la distribución de clases\n",
    "print('Distribución de clases:')\n",
    "print(clientes['clase_ternaria'].value_counts(\n",
    "    normalize=True).mul(100).round(2))"
   ]
  }
 ],
 "metadata": {
  "kernelspec": {
   "display_name": "Python 3",
   "language": "python",
   "name": "python3"
  },
  "language_info": {
   "codemirror_mode": {
    "name": "ipython",
    "version": 3
   },
   "file_extension": ".py",
   "mimetype": "text/x-python",
   "name": "python",
   "nbconvert_exporter": "python",
   "pygments_lexer": "ipython3",
   "version": "3.12.3"
  }
 },
 "nbformat": 4,
 "nbformat_minor": 2
}
